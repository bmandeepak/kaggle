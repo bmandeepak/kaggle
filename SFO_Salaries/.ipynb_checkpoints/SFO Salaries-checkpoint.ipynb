{
 "cells": [
  {
   "cell_type": "code",
   "execution_count": 48,
   "metadata": {
    "collapsed": false
   },
   "outputs": [],
   "source": [
    "import graphlab as gl\n",
    "import numpy as np\n",
    "import graphlab.aggregate as agg\n",
    "import pandas as pd\n",
    "import matplotlib\n",
    "import seaborn as sns\n",
    "%matplotlib inline"
   ]
  },
  {
   "cell_type": "code",
   "execution_count": 2,
   "metadata": {
    "collapsed": false
   },
   "outputs": [
    {
     "data": {
      "text/html": [
       "<pre>Finished parsing file /home/learn/learning/kaggle/SFO_Salaries/Salaries.csv</pre>"
      ],
      "text/plain": [
       "Finished parsing file /home/learn/learning/kaggle/SFO_Salaries/Salaries.csv"
      ]
     },
     "metadata": {},
     "output_type": "display_data"
    },
    {
     "data": {
      "text/html": [
       "<pre>Parsing completed. Parsed 100 lines in 0.637461 secs.</pre>"
      ],
      "text/plain": [
       "Parsing completed. Parsed 100 lines in 0.637461 secs."
      ]
     },
     "metadata": {},
     "output_type": "display_data"
    },
    {
     "name": "stdout",
     "output_type": "stream",
     "text": [
      "------------------------------------------------------\n",
      "Inferred types from first 100 line(s) of file as \n",
      "column_type_hints=[int,str,str,float,float,float,str,float,float,int,str,str,str]\n",
      "If parsing fails due to incorrect types, you can correct\n",
      "the inferred type list above and pass it to read_csv in\n",
      "the column_type_hints argument\n",
      "------------------------------------------------------\n"
     ]
    },
    {
     "data": {
      "text/html": [
       "<pre>Unable to parse line \"148647,Not provided,Not provided,Not Provided,Not Provided,Not Provided,Not Provided,0,0,2014,,San Francisco,\"</pre>"
      ],
      "text/plain": [
       "Unable to parse line \"148647,Not provided,Not provided,Not Provided,Not Provided,Not Provided,Not Provided,0,0,2014,,San Francisco,\""
      ]
     },
     "metadata": {},
     "output_type": "display_data"
    },
    {
     "data": {
      "text/html": [
       "<pre>Unable to parse line \"148651,Not provided,Not provided,Not Provided,Not Provided,Not Provided,Not Provided,0,0,2014,,San Francisco,\"</pre>"
      ],
      "text/plain": [
       "Unable to parse line \"148651,Not provided,Not provided,Not Provided,Not Provided,Not Provided,Not Provided,0,0,2014,,San Francisco,\""
      ]
     },
     "metadata": {},
     "output_type": "display_data"
    },
    {
     "data": {
      "text/html": [
       "<pre>Unable to parse line \"148652,Not provided,Not provided,Not Provided,Not Provided,Not Provided,Not Provided,0,0,2014,,San Francisco,\"</pre>"
      ],
      "text/plain": [
       "Unable to parse line \"148652,Not provided,Not provided,Not Provided,Not Provided,Not Provided,Not Provided,0,0,2014,,San Francisco,\""
      ]
     },
     "metadata": {},
     "output_type": "display_data"
    },
    {
     "data": {
      "text/html": [
       "<pre>Unable to parse line \"148653,Not provided,Not provided,Not Provided,Not Provided,Not Provided,Not Provided,0,0,2014,,San Francisco,\"</pre>"
      ],
      "text/plain": [
       "Unable to parse line \"148653,Not provided,Not provided,Not Provided,Not Provided,Not Provided,Not Provided,0,0,2014,,San Francisco,\""
      ]
     },
     "metadata": {},
     "output_type": "display_data"
    },
    {
     "data": {
      "text/html": [
       "<pre>4 lines failed to parse correctly</pre>"
      ],
      "text/plain": [
       "4 lines failed to parse correctly"
      ]
     },
     "metadata": {},
     "output_type": "display_data"
    },
    {
     "data": {
      "text/html": [
       "<pre>Finished parsing file /home/learn/learning/kaggle/SFO_Salaries/Salaries.csv</pre>"
      ],
      "text/plain": [
       "Finished parsing file /home/learn/learning/kaggle/SFO_Salaries/Salaries.csv"
      ]
     },
     "metadata": {},
     "output_type": "display_data"
    },
    {
     "data": {
      "text/html": [
       "<pre>Parsing completed. Parsed 148650 lines in 0.562328 secs.</pre>"
      ],
      "text/plain": [
       "Parsing completed. Parsed 148650 lines in 0.562328 secs."
      ]
     },
     "metadata": {},
     "output_type": "display_data"
    }
   ],
   "source": [
    "path=\"Salaries.csv\"\n",
    "salariesDF=gl.SFrame.read_csv(path)"
   ]
  },
  {
   "cell_type": "code",
   "execution_count": 3,
   "metadata": {
    "collapsed": false
   },
   "outputs": [
    {
     "data": {
      "text/html": [
       "<div style=\"max-height:1000px;max-width:1500px;overflow:auto;\"><table frame=\"box\" rules=\"cols\">\n",
       "    <tr>\n",
       "        <th style=\"padding-left: 1em; padding-right: 1em; text-align: center\">Id</th>\n",
       "        <th style=\"padding-left: 1em; padding-right: 1em; text-align: center\">EmployeeName</th>\n",
       "        <th style=\"padding-left: 1em; padding-right: 1em; text-align: center\">JobTitle</th>\n",
       "        <th style=\"padding-left: 1em; padding-right: 1em; text-align: center\">BasePay</th>\n",
       "        <th style=\"padding-left: 1em; padding-right: 1em; text-align: center\">OvertimePay</th>\n",
       "        <th style=\"padding-left: 1em; padding-right: 1em; text-align: center\">OtherPay</th>\n",
       "        <th style=\"padding-left: 1em; padding-right: 1em; text-align: center\">Benefits</th>\n",
       "        <th style=\"padding-left: 1em; padding-right: 1em; text-align: center\">TotalPay</th>\n",
       "    </tr>\n",
       "    <tr>\n",
       "        <td style=\"padding-left: 1em; padding-right: 1em; text-align: center; vertical-align: top\">1</td>\n",
       "        <td style=\"padding-left: 1em; padding-right: 1em; text-align: center; vertical-align: top\">NATHANIEL FORD</td>\n",
       "        <td style=\"padding-left: 1em; padding-right: 1em; text-align: center; vertical-align: top\">GENERAL MANAGER-<br>METROPOLITAN TRANSIT ...</td>\n",
       "        <td style=\"padding-left: 1em; padding-right: 1em; text-align: center; vertical-align: top\">167411.18</td>\n",
       "        <td style=\"padding-left: 1em; padding-right: 1em; text-align: center; vertical-align: top\">0.0</td>\n",
       "        <td style=\"padding-left: 1em; padding-right: 1em; text-align: center; vertical-align: top\">400184.25</td>\n",
       "        <td style=\"padding-left: 1em; padding-right: 1em; text-align: center; vertical-align: top\"></td>\n",
       "        <td style=\"padding-left: 1em; padding-right: 1em; text-align: center; vertical-align: top\">567595.43</td>\n",
       "    </tr>\n",
       "    <tr>\n",
       "        <td style=\"padding-left: 1em; padding-right: 1em; text-align: center; vertical-align: top\">2</td>\n",
       "        <td style=\"padding-left: 1em; padding-right: 1em; text-align: center; vertical-align: top\">GARY JIMENEZ</td>\n",
       "        <td style=\"padding-left: 1em; padding-right: 1em; text-align: center; vertical-align: top\">CAPTAIN III (POLICE<br>DEPARTMENT) ...</td>\n",
       "        <td style=\"padding-left: 1em; padding-right: 1em; text-align: center; vertical-align: top\">155966.02</td>\n",
       "        <td style=\"padding-left: 1em; padding-right: 1em; text-align: center; vertical-align: top\">245131.88</td>\n",
       "        <td style=\"padding-left: 1em; padding-right: 1em; text-align: center; vertical-align: top\">137811.38</td>\n",
       "        <td style=\"padding-left: 1em; padding-right: 1em; text-align: center; vertical-align: top\"></td>\n",
       "        <td style=\"padding-left: 1em; padding-right: 1em; text-align: center; vertical-align: top\">538909.28</td>\n",
       "    </tr>\n",
       "</table>\n",
       "<table frame=\"box\" rules=\"cols\">\n",
       "    <tr>\n",
       "        <th style=\"padding-left: 1em; padding-right: 1em; text-align: center\">TotalPayBenefits</th>\n",
       "        <th style=\"padding-left: 1em; padding-right: 1em; text-align: center\">Year</th>\n",
       "        <th style=\"padding-left: 1em; padding-right: 1em; text-align: center\">Notes</th>\n",
       "        <th style=\"padding-left: 1em; padding-right: 1em; text-align: center\">Agency</th>\n",
       "        <th style=\"padding-left: 1em; padding-right: 1em; text-align: center\">Status</th>\n",
       "    </tr>\n",
       "    <tr>\n",
       "        <td style=\"padding-left: 1em; padding-right: 1em; text-align: center; vertical-align: top\">567595.43</td>\n",
       "        <td style=\"padding-left: 1em; padding-right: 1em; text-align: center; vertical-align: top\">2011</td>\n",
       "        <td style=\"padding-left: 1em; padding-right: 1em; text-align: center; vertical-align: top\"></td>\n",
       "        <td style=\"padding-left: 1em; padding-right: 1em; text-align: center; vertical-align: top\">San Francisco</td>\n",
       "        <td style=\"padding-left: 1em; padding-right: 1em; text-align: center; vertical-align: top\"></td>\n",
       "    </tr>\n",
       "    <tr>\n",
       "        <td style=\"padding-left: 1em; padding-right: 1em; text-align: center; vertical-align: top\">538909.28</td>\n",
       "        <td style=\"padding-left: 1em; padding-right: 1em; text-align: center; vertical-align: top\">2011</td>\n",
       "        <td style=\"padding-left: 1em; padding-right: 1em; text-align: center; vertical-align: top\"></td>\n",
       "        <td style=\"padding-left: 1em; padding-right: 1em; text-align: center; vertical-align: top\">San Francisco</td>\n",
       "        <td style=\"padding-left: 1em; padding-right: 1em; text-align: center; vertical-align: top\"></td>\n",
       "    </tr>\n",
       "</table>\n",
       "[2 rows x 13 columns]<br/>\n",
       "</div>"
      ],
      "text/plain": [
       "Columns:\n",
       "\tId\tint\n",
       "\tEmployeeName\tstr\n",
       "\tJobTitle\tstr\n",
       "\tBasePay\tfloat\n",
       "\tOvertimePay\tfloat\n",
       "\tOtherPay\tfloat\n",
       "\tBenefits\tstr\n",
       "\tTotalPay\tfloat\n",
       "\tTotalPayBenefits\tfloat\n",
       "\tYear\tint\n",
       "\tNotes\tstr\n",
       "\tAgency\tstr\n",
       "\tStatus\tstr\n",
       "\n",
       "Rows: 2\n",
       "\n",
       "Data:\n",
       "+----+----------------+-------------------------------+-----------+-------------+\n",
       "| Id |  EmployeeName  |            JobTitle           |  BasePay  | OvertimePay |\n",
       "+----+----------------+-------------------------------+-----------+-------------+\n",
       "| 1  | NATHANIEL FORD | GENERAL MANAGER-METROPOLIT... | 167411.18 |     0.0     |\n",
       "| 2  |  GARY JIMENEZ  | CAPTAIN III (POLICE DEPART... | 155966.02 |  245131.88  |\n",
       "+----+----------------+-------------------------------+-----------+-------------+\n",
       "+-----------+----------+-----------+------------------+------+-------+\n",
       "|  OtherPay | Benefits |  TotalPay | TotalPayBenefits | Year | Notes |\n",
       "+-----------+----------+-----------+------------------+------+-------+\n",
       "| 400184.25 |          | 567595.43 |    567595.43     | 2011 |       |\n",
       "| 137811.38 |          | 538909.28 |    538909.28     | 2011 |       |\n",
       "+-----------+----------+-----------+------------------+------+-------+\n",
       "+---------------+--------+\n",
       "|     Agency    | Status |\n",
       "+---------------+--------+\n",
       "| San Francisco |        |\n",
       "| San Francisco |        |\n",
       "+---------------+--------+\n",
       "[2 rows x 13 columns]"
      ]
     },
     "execution_count": 3,
     "metadata": {},
     "output_type": "execute_result"
    }
   ],
   "source": [
    "salariesDF.head(2)"
   ]
  },
  {
   "cell_type": "code",
   "execution_count": 4,
   "metadata": {
    "collapsed": false
   },
   "outputs": [
    {
     "data": {
      "text/plain": [
       "2158"
      ]
     },
     "execution_count": 4,
     "metadata": {},
     "output_type": "execute_result"
    }
   ],
   "source": [
    "jobTitles=salariesDF['JobTitle'].unique()\n",
    "len(jobTitles)"
   ]
  },
  {
   "cell_type": "code",
   "execution_count": 5,
   "metadata": {
    "collapsed": false
   },
   "outputs": [
    {
     "data": {
      "text/plain": [
       "dtype: int\n",
       "Rows: 4\n",
       "[2011, 2014, 2012, 2013]"
      ]
     },
     "execution_count": 5,
     "metadata": {},
     "output_type": "execute_result"
    }
   ],
   "source": [
    "year=salariesDF['Year'].unique()\n",
    "year"
   ]
  },
  {
   "cell_type": "code",
   "execution_count": 6,
   "metadata": {
    "collapsed": false
   },
   "outputs": [
    {
     "data": {
      "text/html": [
       "<div style=\"max-height:1000px;max-width:1500px;overflow:auto;\"><table frame=\"box\" rules=\"cols\">\n",
       "    <tr>\n",
       "        <th style=\"padding-left: 1em; padding-right: 1em; text-align: center\">Year</th>\n",
       "        <th style=\"padding-left: 1em; padding-right: 1em; text-align: center\">mean_BasePay</th>\n",
       "        <th style=\"padding-left: 1em; padding-right: 1em; text-align: center\">Quantile_BasePay</th>\n",
       "        <th style=\"padding-left: 1em; padding-right: 1em; text-align: center\">std_BasePay</th>\n",
       "    </tr>\n",
       "    <tr>\n",
       "        <td style=\"padding-left: 1em; padding-right: 1em; text-align: center; vertical-align: top\">2011</td>\n",
       "        <td style=\"padding-left: 1em; padding-right: 1em; text-align: center; vertical-align: top\">63595.9565168</td>\n",
       "        <td style=\"padding-left: 1em; padding-right: 1em; text-align: center; vertical-align: top\">[33443.3, 90643.35,<br>130457.94] ...</td>\n",
       "        <td style=\"padding-left: 1em; padding-right: 1em; text-align: center; vertical-align: top\">40556.2141772</td>\n",
       "    </tr>\n",
       "    <tr>\n",
       "        <td style=\"padding-left: 1em; padding-right: 1em; text-align: center; vertical-align: top\">2014</td>\n",
       "        <td style=\"padding-left: 1em; padding-right: 1em; text-align: center; vertical-align: top\">66564.4219245</td>\n",
       "        <td style=\"padding-left: 1em; padding-right: 1em; text-align: center; vertical-align: top\">[30229.37, 94732.0,<br>137982.18] ...</td>\n",
       "        <td style=\"padding-left: 1em; padding-right: 1em; text-align: center; vertical-align: top\">44053.2061231</td>\n",
       "    </tr>\n",
       "    <tr>\n",
       "        <td style=\"padding-left: 1em; padding-right: 1em; text-align: center; vertical-align: top\">2012</td>\n",
       "        <td style=\"padding-left: 1em; padding-right: 1em; text-align: center; vertical-align: top\">65436.4068574</td>\n",
       "        <td style=\"padding-left: 1em; padding-right: 1em; text-align: center; vertical-align: top\">[33801.8, 92459.86,<br>135029.72] ...</td>\n",
       "        <td style=\"padding-left: 1em; padding-right: 1em; text-align: center; vertical-align: top\">41781.6415754</td>\n",
       "    </tr>\n",
       "    <tr>\n",
       "        <td style=\"padding-left: 1em; padding-right: 1em; text-align: center; vertical-align: top\">2013</td>\n",
       "        <td style=\"padding-left: 1em; padding-right: 1em; text-align: center; vertical-align: top\">69630.0302165</td>\n",
       "        <td style=\"padding-left: 1em; padding-right: 1em; text-align: center; vertical-align: top\">[37137.98, 98258.38,<br>143289.0] ...</td>\n",
       "        <td style=\"padding-left: 1em; padding-right: 1em; text-align: center; vertical-align: top\">44236.5154202</td>\n",
       "    </tr>\n",
       "</table>\n",
       "[4 rows x 4 columns]<br/>\n",
       "</div>"
      ],
      "text/plain": [
       "Columns:\n",
       "\tYear\tint\n",
       "\tmean_BasePay\tfloat\n",
       "\tQuantile_BasePay\tarray\n",
       "\tstd_BasePay\tfloat\n",
       "\n",
       "Rows: 4\n",
       "\n",
       "Data:\n",
       "+------+---------------+--------------------------------+---------------+\n",
       "| Year |  mean_BasePay |        Quantile_BasePay        |  std_BasePay  |\n",
       "+------+---------------+--------------------------------+---------------+\n",
       "| 2011 | 63595.9565168 | [33443.3, 90643.35, 130457.94] | 40556.2141772 |\n",
       "| 2014 | 66564.4219245 | [30229.37, 94732.0, 137982.18] | 44053.2061231 |\n",
       "| 2012 | 65436.4068574 | [33801.8, 92459.86, 135029.72] | 41781.6415754 |\n",
       "| 2013 | 69630.0302165 | [37137.98, 98258.38, 143289.0] | 44236.5154202 |\n",
       "+------+---------------+--------------------------------+---------------+\n",
       "[4 rows x 4 columns]"
      ]
     },
     "execution_count": 6,
     "metadata": {},
     "output_type": "execute_result"
    }
   ],
   "source": [
    "basePay_Year=salariesDF.groupby(key_columns='Year',\n",
    "                                operations={\n",
    "                                    'mean_BasePay': agg.MEAN('BasePay'),\n",
    "                                    'std_BasePay': agg.STD('BasePay'),\n",
    "                                    'Quantile_BasePay': agg.QUANTILE('BasePay',[.25,.75,.95])\n",
    "                               })\n",
    "basePay_Year"
   ]
  },
  {
   "cell_type": "code",
   "execution_count": 7,
   "metadata": {
    "collapsed": false,
    "scrolled": true
   },
   "outputs": [
    {
     "data": {
      "text/html": [
       "<div style=\"max-height:1000px;max-width:1500px;overflow:auto;\"><table frame=\"box\" rules=\"cols\">\n",
       "    <tr>\n",
       "        <th style=\"padding-left: 1em; padding-right: 1em; text-align: center\">Year</th>\n",
       "        <th style=\"padding-left: 1em; padding-right: 1em; text-align: center\">std_TotalPay</th>\n",
       "        <th style=\"padding-left: 1em; padding-right: 1em; text-align: center\">mean_TotalPay</th>\n",
       "        <th style=\"padding-left: 1em; padding-right: 1em; text-align: center\">Quantile_TotalPay</th>\n",
       "    </tr>\n",
       "    <tr>\n",
       "        <td style=\"padding-left: 1em; padding-right: 1em; text-align: center; vertical-align: top\">2011</td>\n",
       "        <td style=\"padding-left: 1em; padding-right: 1em; text-align: center; vertical-align: top\">47498.0497859</td>\n",
       "        <td style=\"padding-left: 1em; padding-right: 1em; text-align: center; vertical-align: top\">71744.1038712</td>\n",
       "        <td style=\"padding-left: 1em; padding-right: 1em; text-align: center; vertical-align: top\">[36679.59, 102527.0,<br>156131.87] ...</td>\n",
       "    </tr>\n",
       "    <tr>\n",
       "        <td style=\"padding-left: 1em; padding-right: 1em; text-align: center; vertical-align: top\">2014</td>\n",
       "        <td style=\"padding-left: 1em; padding-right: 1em; text-align: center; vertical-align: top\">51693.9670411</td>\n",
       "        <td style=\"padding-left: 1em; padding-right: 1em; text-align: center; vertical-align: top\">75471.8369123</td>\n",
       "        <td style=\"padding-left: 1em; padding-right: 1em; text-align: center; vertical-align: top\">[33260.22, 107951.14,<br>169364.37] ...</td>\n",
       "    </tr>\n",
       "    <tr>\n",
       "        <td style=\"padding-left: 1em; padding-right: 1em; text-align: center; vertical-align: top\">2012</td>\n",
       "        <td style=\"padding-left: 1em; padding-right: 1em; text-align: center; vertical-align: top\">49523.230813</td>\n",
       "        <td style=\"padding-left: 1em; padding-right: 1em; text-align: center; vertical-align: top\">74113.2622651</td>\n",
       "        <td style=\"padding-left: 1em; padding-right: 1em; text-align: center; vertical-align: top\">[37535.1, 104094.46,<br>164306.67] ...</td>\n",
       "    </tr>\n",
       "    <tr>\n",
       "        <td style=\"padding-left: 1em; padding-right: 1em; text-align: center; vertical-align: top\">2013</td>\n",
       "        <td style=\"padding-left: 1em; padding-right: 1em; text-align: center; vertical-align: top\">52854.0720344</td>\n",
       "        <td style=\"padding-left: 1em; padding-right: 1em; text-align: center; vertical-align: top\">77611.4431421</td>\n",
       "        <td style=\"padding-left: 1em; padding-right: 1em; text-align: center; vertical-align: top\">[36718.74, 109634.05,<br>174525.35] ...</td>\n",
       "    </tr>\n",
       "</table>\n",
       "[4 rows x 4 columns]<br/>\n",
       "</div>"
      ],
      "text/plain": [
       "Columns:\n",
       "\tYear\tint\n",
       "\tstd_TotalPay\tfloat\n",
       "\tmean_TotalPay\tfloat\n",
       "\tQuantile_TotalPay\tarray\n",
       "\n",
       "Rows: 4\n",
       "\n",
       "Data:\n",
       "+------+---------------+---------------+-------------------------------+\n",
       "| Year |  std_TotalPay | mean_TotalPay |       Quantile_TotalPay       |\n",
       "+------+---------------+---------------+-------------------------------+\n",
       "| 2011 | 47498.0497859 | 71744.1038712 | [36679.59, 102527.0, 15613... |\n",
       "| 2014 | 51693.9670411 | 75471.8369123 | [33260.22, 107951.14, 1693... |\n",
       "| 2012 |  49523.230813 | 74113.2622651 | [37535.1, 104094.46, 16430... |\n",
       "| 2013 | 52854.0720344 | 77611.4431421 | [36718.74, 109634.05, 1745... |\n",
       "+------+---------------+---------------+-------------------------------+\n",
       "[4 rows x 4 columns]"
      ]
     },
     "execution_count": 7,
     "metadata": {},
     "output_type": "execute_result"
    }
   ],
   "source": [
    "totalPay_Year=salariesDF.groupby(key_columns='Year',\n",
    "                                operations={\n",
    "                                    'mean_TotalPay': agg.MEAN('TotalPay'),\n",
    "                                    'std_TotalPay': agg.STD('TotalPay'),\n",
    "                                    'Quantile_TotalPay': agg.QUANTILE('TotalPay',[.25,.75,.95])\n",
    "                               })\n",
    "totalPay_Year"
   ]
  },
  {
   "cell_type": "code",
   "execution_count": 8,
   "metadata": {
    "collapsed": false
   },
   "outputs": [
    {
     "data": {
      "text/html": [
       "<div style=\"max-height:1000px;max-width:1500px;overflow:auto;\"><table frame=\"box\" rules=\"cols\">\n",
       "    <tr>\n",
       "        <th style=\"padding-left: 1em; padding-right: 1em; text-align: center\">Year</th>\n",
       "        <th style=\"padding-left: 1em; padding-right: 1em; text-align: center\">std_TotalPay</th>\n",
       "        <th style=\"padding-left: 1em; padding-right: 1em; text-align: center\">mean_TotalPay</th>\n",
       "        <th style=\"padding-left: 1em; padding-right: 1em; text-align: center\">Quantile_TotalPay</th>\n",
       "    </tr>\n",
       "    <tr>\n",
       "        <td style=\"padding-left: 1em; padding-right: 1em; text-align: center; vertical-align: top\">2011</td>\n",
       "        <td style=\"padding-left: 1em; padding-right: 1em; text-align: center; vertical-align: top\">47498.0497859</td>\n",
       "        <td style=\"padding-left: 1em; padding-right: 1em; text-align: center; vertical-align: top\">71744.1038712</td>\n",
       "        <td style=\"padding-left: 1em; padding-right: 1em; text-align: center; vertical-align: top\">[36679.59, 102527.0,<br>156131.87] ...</td>\n",
       "    </tr>\n",
       "    <tr>\n",
       "        <td style=\"padding-left: 1em; padding-right: 1em; text-align: center; vertical-align: top\">2014</td>\n",
       "        <td style=\"padding-left: 1em; padding-right: 1em; text-align: center; vertical-align: top\">51693.9670411</td>\n",
       "        <td style=\"padding-left: 1em; padding-right: 1em; text-align: center; vertical-align: top\">75471.8369123</td>\n",
       "        <td style=\"padding-left: 1em; padding-right: 1em; text-align: center; vertical-align: top\">[33260.22, 107951.14,<br>169364.37] ...</td>\n",
       "    </tr>\n",
       "    <tr>\n",
       "        <td style=\"padding-left: 1em; padding-right: 1em; text-align: center; vertical-align: top\">2012</td>\n",
       "        <td style=\"padding-left: 1em; padding-right: 1em; text-align: center; vertical-align: top\">49523.230813</td>\n",
       "        <td style=\"padding-left: 1em; padding-right: 1em; text-align: center; vertical-align: top\">74113.2622651</td>\n",
       "        <td style=\"padding-left: 1em; padding-right: 1em; text-align: center; vertical-align: top\">[37535.1, 104094.46,<br>164306.67] ...</td>\n",
       "    </tr>\n",
       "    <tr>\n",
       "        <td style=\"padding-left: 1em; padding-right: 1em; text-align: center; vertical-align: top\">2013</td>\n",
       "        <td style=\"padding-left: 1em; padding-right: 1em; text-align: center; vertical-align: top\">52854.0720344</td>\n",
       "        <td style=\"padding-left: 1em; padding-right: 1em; text-align: center; vertical-align: top\">77611.4431421</td>\n",
       "        <td style=\"padding-left: 1em; padding-right: 1em; text-align: center; vertical-align: top\">[36718.74, 109634.05,<br>174525.35] ...</td>\n",
       "    </tr>\n",
       "</table>\n",
       "[4 rows x 4 columns]<br/>\n",
       "</div>"
      ],
      "text/plain": [
       "Columns:\n",
       "\tYear\tint\n",
       "\tstd_TotalPay\tfloat\n",
       "\tmean_TotalPay\tfloat\n",
       "\tQuantile_TotalPay\tarray\n",
       "\n",
       "Rows: 4\n",
       "\n",
       "Data:\n",
       "+------+---------------+---------------+-------------------------------+\n",
       "| Year |  std_TotalPay | mean_TotalPay |       Quantile_TotalPay       |\n",
       "+------+---------------+---------------+-------------------------------+\n",
       "| 2011 | 47498.0497859 | 71744.1038712 | [36679.59, 102527.0, 15613... |\n",
       "| 2014 | 51693.9670411 | 75471.8369123 | [33260.22, 107951.14, 1693... |\n",
       "| 2012 |  49523.230813 | 74113.2622651 | [37535.1, 104094.46, 16430... |\n",
       "| 2013 | 52854.0720344 | 77611.4431421 | [36718.74, 109634.05, 1745... |\n",
       "+------+---------------+---------------+-------------------------------+\n",
       "[4 rows x 4 columns]"
      ]
     },
     "execution_count": 8,
     "metadata": {},
     "output_type": "execute_result"
    }
   ],
   "source": [
    "otherPay_Year=salariesDF.groupby(key_columns='Year',\n",
    "                                operations={\n",
    "                                    'mean_OtherPay': agg.MEAN('OtherPay'),\n",
    "                                    'std_OtherPay': agg.STD('OtherPay'),\n",
    "                                    'Quantile_OtherPay': agg.QUANTILE('OtherPay',[.25,.75,.95])\n",
    "                               })\n",
    "totalPay_Year"
   ]
  },
  {
   "cell_type": "code",
   "execution_count": 9,
   "metadata": {
    "collapsed": false
   },
   "outputs": [
    {
     "data": {
      "text/html": [
       "<div>\n",
       "<table border=\"1\" class=\"dataframe\">\n",
       "  <thead>\n",
       "    <tr style=\"text-align: right;\">\n",
       "      <th></th>\n",
       "      <th>Year</th>\n",
       "      <th>mean_BasePay</th>\n",
       "      <th>Quantile_BasePay</th>\n",
       "      <th>std_BasePay</th>\n",
       "      <th>std_TotalPay</th>\n",
       "      <th>mean_TotalPay</th>\n",
       "      <th>Quantile_TotalPay</th>\n",
       "      <th>Quantile_OtherPay</th>\n",
       "      <th>std_OtherPay</th>\n",
       "      <th>mean_OtherPay</th>\n",
       "    </tr>\n",
       "  </thead>\n",
       "  <tbody>\n",
       "    <tr>\n",
       "      <th>0</th>\n",
       "      <td>2011</td>\n",
       "      <td>63595.956517</td>\n",
       "      <td>[33443.3, 90643.35, 130457.94]</td>\n",
       "      <td>40556.214177</td>\n",
       "      <td>47498.049786</td>\n",
       "      <td>71744.103871</td>\n",
       "      <td>[36679.59, 102527.0, 156131.87]</td>\n",
       "      <td>[0.0, 4052.14, 16320.02]</td>\n",
       "      <td>7959.779088</td>\n",
       "      <td>3617.081926</td>\n",
       "    </tr>\n",
       "    <tr>\n",
       "      <th>1</th>\n",
       "      <td>2014</td>\n",
       "      <td>66564.421925</td>\n",
       "      <td>[30229.37, 94732.0, 137982.18]</td>\n",
       "      <td>44053.206123</td>\n",
       "      <td>51693.967041</td>\n",
       "      <td>75471.836912</td>\n",
       "      <td>[33260.22, 107951.14, 169364.37]</td>\n",
       "      <td>[0.0, 4100.27, 16215.74]</td>\n",
       "      <td>7767.012271</td>\n",
       "      <td>3505.421251</td>\n",
       "    </tr>\n",
       "  </tbody>\n",
       "</table>\n",
       "</div>"
      ],
      "text/plain": [
       "   Year  mean_BasePay                Quantile_BasePay   std_BasePay  \\\n",
       "0  2011  63595.956517  [33443.3, 90643.35, 130457.94]  40556.214177   \n",
       "1  2014  66564.421925  [30229.37, 94732.0, 137982.18]  44053.206123   \n",
       "\n",
       "   std_TotalPay  mean_TotalPay                 Quantile_TotalPay  \\\n",
       "0  47498.049786   71744.103871   [36679.59, 102527.0, 156131.87]   \n",
       "1  51693.967041   75471.836912  [33260.22, 107951.14, 169364.37]   \n",
       "\n",
       "          Quantile_OtherPay  std_OtherPay  mean_OtherPay  \n",
       "0  [0.0, 4052.14, 16320.02]   7959.779088    3617.081926  \n",
       "1  [0.0, 4100.27, 16215.74]   7767.012271    3505.421251  "
      ]
     },
     "execution_count": 9,
     "metadata": {},
     "output_type": "execute_result"
    }
   ],
   "source": [
    "summary_salary=basePay_Year.join(totalPay_Year, on='Year', how='left').join(otherPay_Year,on='Year',how='left')\n",
    "summary_salary=summary_salary.to_dataframe()\n",
    "summary_salary.head(2)"
   ]
  },
  {
   "cell_type": "markdown",
   "metadata": {},
   "source": [
    "## How has mean total pay, base pay and other pay changed over years"
   ]
  },
  {
   "cell_type": "code",
   "execution_count": 10,
   "metadata": {
    "collapsed": false
   },
   "outputs": [
    {
     "data": {
      "image/png": "[encoded data removed]",
      "text/plain": [
       "<matplotlib.figure.Figure at 0x7f9217fd1e50>"
      ]
     },
     "metadata": {},
     "output_type": "display_data"
    },
    {
     "data": {
      "image/png": "[encoded data removed]",
      "text/plain": [
       "<matplotlib.figure.Figure at 0x7f9215ee8950>"
      ]
     },
     "metadata": {},
     "output_type": "display_data"
    },
    {
     "data": {
      "image/png": "[encoded data removed]",
      "text/plain": [
       "<matplotlib.figure.Figure at 0x7f9215c33a50>"
      ]
     },
     "metadata": {},
     "output_type": "display_data"
    }
   ],
   "source": [
    "g_totalpay = sns.factorplot(x=\"Year\", y=\"mean_TotalPay\",data=summary_salary)\n",
    "g_basepay = sns.factorplot(x=\"Year\", y=\"mean_BasePay\",data=summary_salary)\n",
    "g_otherpay = sns.factorplot(x=\"Year\", y=\"mean_OtherPay\",data=summary_salary)"
   ]
  },
  {
   "cell_type": "code",
   "execution_count": 11,
   "metadata": {
    "collapsed": true
   },
   "outputs": [],
   "source": [
    "## Employee Job Title and Salary distribution"
   ]
  },
  {
   "cell_type": "code",
   "execution_count": 12,
   "metadata": {
    "collapsed": false
   },
   "outputs": [
    {
     "data": {
      "image/png": "[encoded data removed]",
      "text/plain": [
       "<matplotlib.figure.Figure at 0x7f9217fd1050>"
      ]
     },
     "metadata": {},
     "output_type": "display_data"
    }
   ],
   "source": [
    "salariesDF_pd=salariesDF.to_dataframe()\n",
    "sns.boxplot(x=salariesDF_pd['Year'], y=salariesDF_pd['TotalPay'], hue=\"Year\", data=salariesDF_pd, palette=\"PRGn\")\n",
    "sns.despine(offset=10, trim=True)"
   ]
  },
  {
   "cell_type": "code",
   "execution_count": 51,
   "metadata": {
    "collapsed": false
   },
   "outputs": [
    {
     "data": {
      "text/plain": [
       "<matplotlib.axes._subplots.AxesSubplot at 0x7f91fbd58910>"
      ]
     },
     "execution_count": 51,
     "metadata": {},
     "output_type": "execute_result"
    },
    {
     "data": {
      "image/png": "[encoded data removed]",
      "text/plain": [
       "<matplotlib.figure.Figure at 0x7f91fbd70ed0>"
      ]
     },
     "metadata": {},
     "output_type": "display_data"
    }
   ],
   "source": [
    "sns.set_style('ticks', {'axes.facecolor': 'none'})\n",
    "d2011=salariesDF_pd[salariesDF_pd['Year']==2011]['TotalPay']\n",
    "df_2011 = pd.DataFrame(d2011).reset_index()\n",
    "df_2011.rename(columns={'TotalPay': 'TotalPay_2011'}, inplace=True)\n",
    "\n",
    "d2012=salariesDF_pd[salariesDF_pd['Year']==2012]['TotalPay']\n",
    "df_2012 = pd.DataFrame(d2012).reset_index()\n",
    "df_2012.rename(columns={'TotalPay': 'TotalPay_2012'}, inplace=True)\n",
    "\n",
    "d2013=salariesDF_pd[salariesDF_pd['Year']==2013]['TotalPay']\n",
    "df_2013 = pd.DataFrame(d2013).reset_index()\n",
    "df_2013.rename(columns={'TotalPay': 'TotalPay_2013'}, inplace=True)\n",
    "\n",
    "d2014=salariesDF_pd[salariesDF_pd['Year']==2014]['TotalPay']\n",
    "df_2014 = pd.DataFrame(d2014).reset_index()\n",
    "df_2014.rename(columns={'TotalPay': 'TotalPay_2014'}, inplace=True)\n",
    "\n",
    "#d2014.rename(columns={'TotalPay': 'TotalPay_2014'}, inplace=True)\n",
    "sns.kdeplot(df_2011['TotalPay_2011'],shade=True)\n",
    "sns.kdeplot(df_2012['TotalPay_2012'],shade=True)\n",
    "sns.kdeplot(df_2013['TotalPay_2013'],shade=True)\n",
    "sns.kdeplot(df_2014['TotalPay_2014'],shade=True)"
   ]
  },
  {
   "cell_type": "code",
   "execution_count": null,
   "metadata": {
    "collapsed": true
   },
   "outputs": [],
   "source": []
  }
 ],
 "metadata": {
  "kernelspec": {
   "display_name": "Python [gl-env]",
   "language": "python",
   "name": "Python [gl-env]"
  },
  "language_info": {
   "codemirror_mode": {
    "name": "ipython",
    "version": 2
   },
   "file_extension": ".py",
   "mimetype": "text/x-python",
   "name": "python",
   "nbconvert_exporter": "python",
   "pygments_lexer": "ipython2",
   "version": "2.7.12"
  }
 },
 "nbformat": 4,
 "nbformat_minor": 0
}
